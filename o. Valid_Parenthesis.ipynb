{
 "cells": [
  {
   "cell_type": "markdown",
   "id": "ef9b1299-c11e-455a-a710-e72acf20cbc6",
   "metadata": {},
   "source": [
    "You are given a string s consisting of the following characters: '(', ')', '{', '}', '[' and ']'.<br>\n",
    "The input string s is valid if and only if:<br>\n",
    "\n",
    "    1. Every open bracket is closed by the same type of close bracket.\n",
    "    2. Open brackets are closed in the correct order.\n",
    "    3. Every close bracket has a corresponding open bracket of the same type.\n",
    "\n",
    "Return true if s is a valid string, and false otherwise.<br>\n",
    "Difficulty: Easy"
   ]
  },
  {
   "cell_type": "code",
   "execution_count": 63,
   "id": "1b6230d6-3a20-459a-a3d0-002a51f6ed83",
   "metadata": {},
   "outputs": [
    {
     "data": {
      "text/plain": [
       "False"
      ]
     },
     "execution_count": 63,
     "metadata": {},
     "output_type": "execute_result"
    }
   ],
   "source": [
    "from typing import List\n",
    "class Solution:\n",
    "    def isValid(self, s: str) -> bool:\n",
    "        opening, closing = [\"(\", \"[\", \"{\"], [\")\", \"]\", \"}\"]\n",
    "        a, i = [], 0\n",
    "        check = True\n",
    "        for j in range(3):\n",
    "            if s.count(opening[j]) != s.count(closing[j]):\n",
    "                check = False\n",
    "        while i < len(s) and check == True:\n",
    "            if s[i] in opening:\n",
    "                a.append(opening.index(s[i]))\n",
    "            elif len(a) == 0:\n",
    "                check = False\n",
    "            elif s[i] in closing:\n",
    "                check = a[-1] == closing.index(s[i])\n",
    "                a = a[:-1]\n",
    "            i += 1\n",
    "        return(check)"
   ]
  },
  {
   "cell_type": "code",
   "execution_count": 64,
   "id": "9dcd335a-ea51-4f51-a56d-b140700ee3e8",
   "metadata": {},
   "outputs": [
    {
     "data": {
      "text/plain": [
       "True"
      ]
     },
     "execution_count": 64,
     "metadata": {},
     "output_type": "execute_result"
    }
   ],
   "source": [
    "Solution().isValid(\"{[]}[]({[]})\")"
   ]
  },
  {
   "cell_type": "code",
   "execution_count": 65,
   "id": "601a0caf-1e11-41c9-b624-b13a435fe1cd",
   "metadata": {},
   "outputs": [
    {
     "data": {
      "text/plain": [
       "False"
      ]
     },
     "execution_count": 65,
     "metadata": {},
     "output_type": "execute_result"
    }
   ],
   "source": [
    "Solution().isValid(\"(){}}{\")"
   ]
  },
  {
   "cell_type": "code",
   "execution_count": null,
   "id": "0a0f61fe-011f-464b-bf41-b0dcc70e972c",
   "metadata": {},
   "outputs": [],
   "source": [
    "#class Solution:\n",
    "#    def isValid(self, s: str) -> bool:\n",
    "#        Map = {\")\": \"(\", \"]\": \"[\", \"}\": \"{\"}\n",
    "#        stack = []\n",
    "#\n",
    "#        for c in s:\n",
    "#            if c not in Map:\n",
    "#                stack.append(c)\n",
    "#                continue\n",
    "#            if not stack or stack[-1] != Map[c]:\n",
    "#                return False\n",
    "#            stack.pop()\n",
    "#\n",
    "#        return not stack"
   ]
  }
 ],
 "metadata": {
  "kernelspec": {
   "display_name": "Python 3 (ipykernel)",
   "language": "python",
   "name": "python3"
  },
  "language_info": {
   "codemirror_mode": {
    "name": "ipython",
    "version": 3
   },
   "file_extension": ".py",
   "mimetype": "text/x-python",
   "name": "python",
   "nbconvert_exporter": "python",
   "pygments_lexer": "ipython3",
   "version": "3.10.12"
  }
 },
 "nbformat": 4,
 "nbformat_minor": 5
}
