{
 "cells": [
  {
   "cell_type": "markdown",
   "id": "9dd3746e-9928-47fc-9a2b-e5fa60b3e044",
   "metadata": {},
   "source": [
    "Given a string s, return true if it is a palindrome, otherwise return false.<br>\n",
    "Difficulty: Easy"
   ]
  },
  {
   "cell_type": "code",
   "execution_count": 24,
   "id": "67c320d6-35e1-45f5-a83e-283ef26cd47b",
   "metadata": {},
   "outputs": [],
   "source": [
    "class Solution:\n",
    "    def isPalindrome(self, s: str) -> bool:\n",
    "        s = s.replace(\" \", \"\").upper()\n",
    "        t = \"\"\n",
    "        for i in s:\n",
    "            if i.isalnum():\n",
    "                t = t + i\n",
    "        return(t == t[::-1])"
   ]
  },
  {
   "cell_type": "code",
   "execution_count": 26,
   "id": "36e9e79e-2291-483f-aadc-f3d4b0d5b142",
   "metadata": {},
   "outputs": [],
   "source": [
    "s1 = \"Was it a car or a cat I saw?\"\n",
    "s2 = \"tab a cat\""
   ]
  },
  {
   "cell_type": "code",
   "execution_count": 27,
   "id": "0358d376-ed6b-4b4c-88b8-7b18a819589b",
   "metadata": {},
   "outputs": [
    {
     "data": {
      "text/plain": [
       "True"
      ]
     },
     "execution_count": 27,
     "metadata": {},
     "output_type": "execute_result"
    }
   ],
   "source": [
    "Solution().isPalindrome(s1)"
   ]
  },
  {
   "cell_type": "code",
   "execution_count": 28,
   "id": "bd9fefe2-59dc-4353-b05c-8155171c5e89",
   "metadata": {},
   "outputs": [
    {
     "data": {
      "text/plain": [
       "False"
      ]
     },
     "execution_count": 28,
     "metadata": {},
     "output_type": "execute_result"
    }
   ],
   "source": [
    "Solution().isPalindrome(s2)"
   ]
  }
 ],
 "metadata": {
  "kernelspec": {
   "display_name": "Python 3 (ipykernel)",
   "language": "python",
   "name": "python3"
  },
  "language_info": {
   "codemirror_mode": {
    "name": "ipython",
    "version": 3
   },
   "file_extension": ".py",
   "mimetype": "text/x-python",
   "name": "python",
   "nbconvert_exporter": "python",
   "pygments_lexer": "ipython3",
   "version": "3.10.12"
  }
 },
 "nbformat": 4,
 "nbformat_minor": 5
}
