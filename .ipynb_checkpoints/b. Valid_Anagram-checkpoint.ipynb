{
 "cells": [
  {
   "cell_type": "markdown",
   "id": "665f4172-9424-4214-aeff-2e336d8e56fb",
   "metadata": {},
   "source": [
    "Given two strings s and t, return true if the two strings are anagrams of each other, otherwise return false.<br>\n",
    "Difficulty: Easy"
   ]
  },
  {
   "cell_type": "code",
   "execution_count": 1,
   "id": "13f58015-fde7-4777-a56f-7b71ba1c66d8",
   "metadata": {},
   "outputs": [],
   "source": [
    "class Solution:\n",
    "    def isAnagram(self, s: str, t: str) -> bool:\n",
    "        return(sorted(t)==sorted(s))"
   ]
  },
  {
   "cell_type": "code",
   "execution_count": 2,
   "id": "bb6c30f4-12f5-44c5-9d1a-0efe31ecabc2",
   "metadata": {},
   "outputs": [
    {
     "data": {
      "text/plain": [
       "False"
      ]
     },
     "execution_count": 2,
     "metadata": {},
     "output_type": "execute_result"
    }
   ],
   "source": [
    "Solution().isAnagram(\"tom\", \"jerry\")"
   ]
  },
  {
   "cell_type": "code",
   "execution_count": 3,
   "id": "ac2fcdea-de95-4763-a48f-6d38dc9bbbc6",
   "metadata": {},
   "outputs": [
    {
     "data": {
      "text/plain": [
       "True"
      ]
     },
     "execution_count": 3,
     "metadata": {},
     "output_type": "execute_result"
    }
   ],
   "source": [
    "Solution().isAnagram(\"tom\", \"mot\")"
   ]
  }
 ],
 "metadata": {
  "kernelspec": {
   "display_name": "Python 3 (ipykernel)",
   "language": "python",
   "name": "python3"
  },
  "language_info": {
   "codemirror_mode": {
    "name": "ipython",
    "version": 3
   },
   "file_extension": ".py",
   "mimetype": "text/x-python",
   "name": "python",
   "nbconvert_exporter": "python",
   "pygments_lexer": "ipython3",
   "version": "3.10.12"
  }
 },
 "nbformat": 4,
 "nbformat_minor": 5
}
