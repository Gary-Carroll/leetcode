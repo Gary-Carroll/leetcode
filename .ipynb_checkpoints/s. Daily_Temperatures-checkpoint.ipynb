{
 "cells": [
  {
   "cell_type": "markdown",
   "id": "01b05b25-de1c-4889-b4f6-7c6cf642cb83",
   "metadata": {},
   "source": [
    "You are given an array of integers temperatures where temperatures[i] represents the daily temperatures on the ith day.<br>\n",
    "Return an array result where result[i] is the number of days after the ith day before a warmer temperature appears on a future day. If there is no day in the future where a warmer temperature will appear for the ith day, set result[i] to 0 instead.<br>\n",
    "Difficulty: Medium"
   ]
  },
  {
   "cell_type": "markdown",
   "id": "caf9a3ad-3efe-4ae8-a3dd-5963173f785e",
   "metadata": {},
   "source": [
    "Input: temperatures = [30,38,30,36,35,40,28]<br>\n",
    "Output: [1,4,1,2,1,0,0]"
   ]
  },
  {
   "cell_type": "code",
   "execution_count": null,
   "id": "a67dfc26-0113-41e3-9647-cc254f457927",
   "metadata": {},
   "outputs": [],
   "source": []
  }
 ],
 "metadata": {
  "kernelspec": {
   "display_name": "Python 3 (ipykernel)",
   "language": "python",
   "name": "python3"
  },
  "language_info": {
   "codemirror_mode": {
    "name": "ipython",
    "version": 3
   },
   "file_extension": ".py",
   "mimetype": "text/x-python",
   "name": "python",
   "nbconvert_exporter": "python",
   "pygments_lexer": "ipython3",
   "version": "3.10.12"
  }
 },
 "nbformat": 4,
 "nbformat_minor": 5
}
