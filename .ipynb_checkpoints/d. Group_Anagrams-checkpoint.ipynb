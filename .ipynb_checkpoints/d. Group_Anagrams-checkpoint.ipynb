{
 "cells": [
  {
   "cell_type": "markdown",
   "id": "cde5b607-9e6d-4633-b572-45fe8e6c3d58",
   "metadata": {},
   "source": [
    "Given an array of strings strs, group all anagrams together into sublists. You may return the output in any order.<br>\n",
    "Difficulty: Medium"
   ]
  },
  {
   "cell_type": "code",
   "execution_count": 2,
   "id": "6f2fcad9-0042-4038-afeb-49c798d98675",
   "metadata": {},
   "outputs": [],
   "source": [
    "from typing import List\n",
    "class Solution:\n",
    "    def groupAnagrams(self, strs: List[str]) -> List[List[str]]:\n",
    "        output = []\n",
    "        for i in range(len(strs)):\n",
    "            sublist = []\n",
    "            sublist.append(strs[i])\n",
    "            for j in range(len(strs)):\n",
    "                if sorted(strs[i]) == sorted(strs[j]) and i != j:\n",
    "                    sublist.append(strs[j])\n",
    "            if sorted(sublist) not in output:\n",
    "                output.append(sorted(sublist))\n",
    "        return(output)"
   ]
  },
  {
   "cell_type": "code",
   "execution_count": 3,
   "id": "b12f06d3-dd40-4601-bce5-b630509d8eaf",
   "metadata": {},
   "outputs": [
    {
     "data": {
      "text/plain": [
       "[['act', 'cat'], ['pots', 'stop', 'tops'], ['hat']]"
      ]
     },
     "execution_count": 3,
     "metadata": {},
     "output_type": "execute_result"
    }
   ],
   "source": [
    "Solution().groupAnagrams([\"act\",\"pots\",\"tops\",\"cat\",\"stop\",\"hat\"])"
   ]
  }
 ],
 "metadata": {
  "kernelspec": {
   "display_name": "Python 3 (ipykernel)",
   "language": "python",
   "name": "python3"
  },
  "language_info": {
   "codemirror_mode": {
    "name": "ipython",
    "version": 3
   },
   "file_extension": ".py",
   "mimetype": "text/x-python",
   "name": "python",
   "nbconvert_exporter": "python",
   "pygments_lexer": "ipython3",
   "version": "3.10.12"
  }
 },
 "nbformat": 4,
 "nbformat_minor": 5
}
