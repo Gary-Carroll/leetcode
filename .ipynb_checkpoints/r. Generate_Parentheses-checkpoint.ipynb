{
 "cells": [
  {
   "cell_type": "markdown",
   "id": "6ff6a641-f0c8-4e21-bb78-66060eb0801c",
   "metadata": {},
   "source": [
    "You are given an integer n. Return all well-formed parentheses strings that you can generate with n pairs of parentheses.<br>\n",
    "Difficulty: Medium"
   ]
  },
  {
   "cell_type": "markdown",
   "id": "3e09363c-650a-4c9e-926a-7b1ecdcc21d5",
   "metadata": {},
   "source": [
    "Input: n = 1<br>\n",
    "Output: [\"()\"]<br><br>\n",
    "Input: n = 2<br>\n",
    "Output: [\"(())\", \"()()\"]<br><br>\n",
    "Input: n = 3<br>\n",
    "Output: [\"((()))\", \"(()())\", \"(())()\", \"()(())\", \"()()()\"]\n",
    "<br><br>\n",
    "Constraint: 1 <= n <= 7"
   ]
  },
  {
   "cell_type": "code",
   "execution_count": null,
   "id": "3f7eb937-afef-4c0c-ad40-b12b013bd219",
   "metadata": {},
   "outputs": [],
   "source": [
    "from typing import List\n",
    "from itertools import combinations"
   ]
  },
  {
   "cell_type": "code",
   "execution_count": 195,
   "id": "4ce60eeb-6d39-40fd-ae48-3b2f927cc67a",
   "metadata": {},
   "outputs": [],
   "source": [
    "class Solution:\n",
    "    def generateParenthesis(self, n: int) -> List[str]:\n",
    "        res = []\n",
    "        for i in list(combinations([x for x in range(1,2*n-1)],n-1)):\n",
    "            s = [\"(\"]*n + [\")\"]\n",
    "            for j in i:\n",
    "                if s[:j].count(\")\") < s[:j].count(\"(\"):\n",
    "                    s.insert(j, \")\")\n",
    "            res.append(''.join(s))\n",
    "        return [i for i in res if len(i) == 2*n]"
   ]
  },
  {
   "cell_type": "code",
   "execution_count": 196,
   "id": "799db6a8-aa1b-4b9d-b9e9-6a5664f5ad64",
   "metadata": {},
   "outputs": [],
   "source": [
    "# Neetcode solution\n",
    "class Solution_neet:\n",
    "    def generateParenthesis(self, n: int) -> List[str]:\n",
    "        stack = []\n",
    "        res = []\n",
    "        def backtrack(openN, closedN):\n",
    "            if openN == closedN == n:\n",
    "                res.append(\"\".join(stack))\n",
    "                return\n",
    "            if openN < n:\n",
    "                stack.append(\"(\")\n",
    "                backtrack(openN + 1, closedN)\n",
    "                stack.pop()\n",
    "            if closedN < openN:\n",
    "                stack.append(\")\")\n",
    "                backtrack(openN, closedN + 1)\n",
    "                stack.pop()\n",
    "        backtrack(0, 0)\n",
    "        return res"
   ]
  },
  {
   "cell_type": "code",
   "execution_count": 197,
   "id": "1612d41c-4530-4292-ae1c-67cb12a19230",
   "metadata": {},
   "outputs": [
    {
     "name": "stdout",
     "output_type": "stream",
     "text": [
      "Elapsed time Gary solution: 9.998687 seconds\n",
      "Elapsed time Neet solution: 3.798576 seconds\n"
     ]
    }
   ],
   "source": [
    "gary = Solution()\n",
    "leet = Solution_neet()\n",
    "import timeit\n",
    "\n",
    "elapsed_time = timeit.timeit('gary.generateParenthesis(5)', globals=globals(), number=100000)\n",
    "print(f\"Elapsed time Gary solution: {elapsed_time:.6f} seconds\")\n",
    "import timeit\n",
    "\n",
    "elapsed_time = timeit.timeit('leet.generateParenthesis(5)', globals=globals(), number=100000)\n",
    "print(f\"Elapsed time Neet solution: {elapsed_time:.6f} seconds\")"
   ]
  }
 ],
 "metadata": {
  "kernelspec": {
   "display_name": "Python 3 (ipykernel)",
   "language": "python",
   "name": "python3"
  },
  "language_info": {
   "codemirror_mode": {
    "name": "ipython",
    "version": 3
   },
   "file_extension": ".py",
   "mimetype": "text/x-python",
   "name": "python",
   "nbconvert_exporter": "python",
   "pygments_lexer": "ipython3",
   "version": "3.10.12"
  }
 },
 "nbformat": 4,
 "nbformat_minor": 5
}
