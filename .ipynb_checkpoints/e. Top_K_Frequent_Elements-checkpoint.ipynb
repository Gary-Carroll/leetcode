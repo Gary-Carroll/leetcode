{
 "cells": [
  {
   "cell_type": "markdown",
   "id": "18d43051-d8a4-4dc7-9077-27188dc3320d",
   "metadata": {},
   "source": [
    "Given an integer array nums and an integer k, return the k most frequent elements within the array.<br>\n",
    "The test cases are generated such that the answer is always unique.<br>\n",
    "You may return the output in any order.<br>\n",
    "Difficulty: Medium"
   ]
  },
  {
   "cell_type": "code",
   "execution_count": 1,
   "id": "0a9cbf27-f16b-4cc1-97e0-c821f9ef11ce",
   "metadata": {},
   "outputs": [],
   "source": [
    "from typing import List\n",
    "class Solution:\n",
    "    def topKFrequent(self, nums: List[int], k: int) -> List[int]:\n",
    "        mydict = {}\n",
    "        for i in nums:\n",
    "            mydict[i] = nums.count(i)\n",
    "        mydict = {k: v for k, v in sorted(mydict.items(), key=lambda item: item[1], reverse = True)}\n",
    "        output = []\n",
    "        for i in range(k):\n",
    "            output.append(list(mydict.keys())[i])\n",
    "        return(output)"
   ]
  },
  {
   "cell_type": "code",
   "execution_count": 2,
   "id": "ae659f02-4171-401d-a746-1fb35f16e855",
   "metadata": {},
   "outputs": [
    {
     "data": {
      "text/plain": [
       "[3, 2]"
      ]
     },
     "execution_count": 2,
     "metadata": {},
     "output_type": "execute_result"
    }
   ],
   "source": [
    "Solution().topKFrequent([1,2,2,3,3,3], 2)"
   ]
  }
 ],
 "metadata": {
  "kernelspec": {
   "display_name": "Python 3 (ipykernel)",
   "language": "python",
   "name": "python3"
  },
  "language_info": {
   "codemirror_mode": {
    "name": "ipython",
    "version": 3
   },
   "file_extension": ".py",
   "mimetype": "text/x-python",
   "name": "python",
   "nbconvert_exporter": "python",
   "pygments_lexer": "ipython3",
   "version": "3.10.12"
  }
 },
 "nbformat": 4,
 "nbformat_minor": 5
}
