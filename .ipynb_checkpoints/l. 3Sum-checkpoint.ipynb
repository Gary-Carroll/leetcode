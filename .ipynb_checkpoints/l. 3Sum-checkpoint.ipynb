{
 "cells": [
  {
   "cell_type": "markdown",
   "id": "87b845dd-2c11-49d9-b9b4-54ed915f8790",
   "metadata": {},
   "source": [
    "Given an integer array nums, return all the triplets [nums[i], nums[j], nums[k]] where nums[i] + nums[j] + nums[k] == 0, and the indices i, j and k are all distinct.<br>\n",
    "The output should not contain any duplicate triplets. You may return the output and the triplets in any order.<br>\n",
    "Difficulty: Medium"
   ]
  },
  {
   "cell_type": "code",
   "execution_count": 20,
   "id": "b6cb770b-c913-4e2a-949d-61c1f7d8c4e9",
   "metadata": {},
   "outputs": [],
   "source": [
    "nums1 = [-1,0,1,2,-1,-4]\n",
    "nums2 = [0,1,1]"
   ]
  },
  {
   "cell_type": "code",
   "execution_count": 22,
   "id": "bd43a0d2-8993-4ded-848e-245a7279f52f",
   "metadata": {},
   "outputs": [],
   "source": [
    "from typing import List\n",
    "class Solution:\n",
    "    def threeSum(self, nums: List[int]) -> List[List[int]]:\n",
    "        triplets = []\n",
    "        for i in range(len(nums)):\n",
    "            for j in [h for h in range(len(nums)) if h != i]:\n",
    "                for k in [h for h in range(len(nums)) if h != i and h != j]:\n",
    "                    if nums[i]+nums[j]+nums[k] == 0 and sorted([nums[i],nums[j],nums[k]]) not in triplets:\n",
    "                        triplets.append(sorted([nums[i],nums[j],nums[k]]))\n",
    "        return triplets"
   ]
  },
  {
   "cell_type": "code",
   "execution_count": 23,
   "id": "02f73c7e-474c-43f1-ad05-1eca91842ed1",
   "metadata": {},
   "outputs": [
    {
     "data": {
      "text/plain": [
       "[[-1, 0, 1], [-1, -1, 2]]"
      ]
     },
     "execution_count": 23,
     "metadata": {},
     "output_type": "execute_result"
    }
   ],
   "source": [
    "Solution().threeSum(nums1)"
   ]
  },
  {
   "cell_type": "code",
   "execution_count": 24,
   "id": "bd5e306f-51f0-4e92-8337-7ac1efcd0a4c",
   "metadata": {},
   "outputs": [
    {
     "data": {
      "text/plain": [
       "[]"
      ]
     },
     "execution_count": 24,
     "metadata": {},
     "output_type": "execute_result"
    }
   ],
   "source": [
    "Solution().threeSum(nums2)"
   ]
  }
 ],
 "metadata": {
  "kernelspec": {
   "display_name": "Python 3 (ipykernel)",
   "language": "python",
   "name": "python3"
  },
  "language_info": {
   "codemirror_mode": {
    "name": "ipython",
    "version": 3
   },
   "file_extension": ".py",
   "mimetype": "text/x-python",
   "name": "python",
   "nbconvert_exporter": "python",
   "pygments_lexer": "ipython3",
   "version": "3.10.12"
  }
 },
 "nbformat": 4,
 "nbformat_minor": 5
}
