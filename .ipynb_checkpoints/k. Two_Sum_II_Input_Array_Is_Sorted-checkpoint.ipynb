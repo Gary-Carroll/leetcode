{
 "cells": [
  {
   "cell_type": "markdown",
   "id": "262b3a30-53a4-4b3b-a39c-ae6c1ac2692b",
   "metadata": {},
   "source": [
    "Given an array of integers numbers that is sorted in non-decreasing order.<br>\n",
    "Return the indices (1-indexed) of two numbers, [index1, index2], such that they add up to a given target number target and index1 < index2.<br> Note that index1 and index2 cannot be equal, therefore you may not use the same element twice.<br>\n",
    "There will always be exactly one valid solution.<br>\n",
    "Your solution must use O(1) additional space.<br>\n",
    "Difficulty: Medium"
   ]
  },
  {
   "cell_type": "code",
   "execution_count": 22,
   "id": "cd3d5849-1148-4286-8d7e-d156fd0fd024",
   "metadata": {},
   "outputs": [],
   "source": [
    "numbers = [1,2,3,4]\n",
    "target = 3"
   ]
  },
  {
   "cell_type": "code",
   "execution_count": 23,
   "id": "c3d3a195-271f-48a4-be64-640dc0548af0",
   "metadata": {},
   "outputs": [],
   "source": [
    "from typing import List\n",
    "class Solution:\n",
    "    def twoSum(self, numbers: List[int], target: int) -> List[int]:\n",
    "        a, b = 0, len(numbers) - 1\n",
    "        while a < b:\n",
    "            if (numbers[a] + numbers[b]) < target:\n",
    "               a += 1\n",
    "            elif (numbers[a] + numbers[b]) > target:\n",
    "                b -= 1\n",
    "            else:\n",
    "                return [a+1, b+1]"
   ]
  },
  {
   "cell_type": "code",
   "execution_count": 24,
   "id": "fc9cdcf7-630f-4aa3-81cb-4e9bfb7a4c2a",
   "metadata": {},
   "outputs": [
    {
     "data": {
      "text/plain": [
       "[1, 2]"
      ]
     },
     "execution_count": 24,
     "metadata": {},
     "output_type": "execute_result"
    }
   ],
   "source": [
    "Solution().twoSum(numbers, target)"
   ]
  }
 ],
 "metadata": {
  "kernelspec": {
   "display_name": "Python 3 (ipykernel)",
   "language": "python",
   "name": "python3"
  },
  "language_info": {
   "codemirror_mode": {
    "name": "ipython",
    "version": 3
   },
   "file_extension": ".py",
   "mimetype": "text/x-python",
   "name": "python",
   "nbconvert_exporter": "python",
   "pygments_lexer": "ipython3",
   "version": "3.10.12"
  }
 },
 "nbformat": 4,
 "nbformat_minor": 5
}
