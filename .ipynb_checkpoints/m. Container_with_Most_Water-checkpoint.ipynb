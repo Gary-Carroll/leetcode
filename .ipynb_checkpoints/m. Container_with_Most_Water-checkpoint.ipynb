{
 "cells": [
  {
   "cell_type": "markdown",
   "id": "bcc5cfdd-0c91-45a6-a81e-207a8a78b2ee",
   "metadata": {},
   "source": [
    "You are given an integer array heights where heights[i] represents the height of the ithith bar.<br>\n",
    "You may choose any two bars to form a container. Return the maximum amount of water a container can store.<br>\n",
    "Difficulty: Medium"
   ]
  },
  {
   "cell_type": "code",
   "execution_count": 14,
   "id": "0e6d29c9-a570-465f-b80a-8154cfc94b64",
   "metadata": {},
   "outputs": [],
   "source": [
    "heights1 = [1,7,2,5,4,7,3,6]\n",
    "heights2 = [2,2,2]"
   ]
  },
  {
   "cell_type": "code",
   "execution_count": 25,
   "id": "837ce3f6-6b92-4361-9142-94ca2c6e64b0",
   "metadata": {},
   "outputs": [],
   "source": [
    "from typing import List\n",
    "class Solution:\n",
    "    def maxArea(self, heights: List[int]) -> int:\n",
    "        areas = []\n",
    "        for i in range(len(heights)):\n",
    "            for j in range(len(heights)):\n",
    "                areas.append(min([heights[i],heights[j]]) * (j - i))\n",
    "        return max(areas)"
   ]
  },
  {
   "cell_type": "code",
   "execution_count": 26,
   "id": "2bb306bf-e509-4fd7-83da-0ad92e94d219",
   "metadata": {},
   "outputs": [
    {
     "data": {
      "text/plain": [
       "36"
      ]
     },
     "execution_count": 26,
     "metadata": {},
     "output_type": "execute_result"
    }
   ],
   "source": [
    "Solution().maxArea(heights1)"
   ]
  },
  {
   "cell_type": "code",
   "execution_count": 27,
   "id": "7c17f04e-688e-41ce-8264-de97d4e007be",
   "metadata": {},
   "outputs": [
    {
     "data": {
      "text/plain": [
       "4"
      ]
     },
     "execution_count": 27,
     "metadata": {},
     "output_type": "execute_result"
    }
   ],
   "source": [
    "Solution().maxArea(heights2)"
   ]
  },
  {
   "cell_type": "code",
   "execution_count": 28,
   "id": "b742f76b-f1d6-4d77-82e0-256cef0ef4ce",
   "metadata": {},
   "outputs": [
    {
     "name": "stdout",
     "output_type": "stream",
     "text": [
      "Elapsed time: 1.529266 seconds\n"
     ]
    }
   ],
   "source": [
    "import timeit\n",
    "\n",
    "elapsed_time = timeit.timeit('Solution().maxArea(heights1)', globals=globals(), number=100000)\n",
    "print(f\"Elapsed time: {elapsed_time:.6f} seconds\")"
   ]
  },
  {
   "cell_type": "code",
   "execution_count": null,
   "id": "131199c3-4968-4e9c-81a4-352b15072f00",
   "metadata": {},
   "outputs": [],
   "source": []
  }
 ],
 "metadata": {
  "kernelspec": {
   "display_name": "Python 3 (ipykernel)",
   "language": "python",
   "name": "python3"
  },
  "language_info": {
   "codemirror_mode": {
    "name": "ipython",
    "version": 3
   },
   "file_extension": ".py",
   "mimetype": "text/x-python",
   "name": "python",
   "nbconvert_exporter": "python",
   "pygments_lexer": "ipython3",
   "version": "3.10.12"
  }
 },
 "nbformat": 4,
 "nbformat_minor": 5
}
