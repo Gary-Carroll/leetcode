{
 "cells": [
  {
   "cell_type": "markdown",
   "id": "e38c8e66-f478-4ba6-85ac-0663086650b2",
   "metadata": {},
   "source": [
    "You are given an array non-negative integers heights which represent an elevation map. Each value heights[i] represents the height of a bar, which has a width of 1.<br>\n",
    "Return the maximum area of water that can be trapped between the bars.<br>\n",
    "Difficulty: Hard"
   ]
  },
  {
   "cell_type": "code",
   "execution_count": 17,
   "id": "a5d083eb-95ed-4a00-abc1-574425f30edf",
   "metadata": {},
   "outputs": [],
   "source": [
    "from typing import List\n",
    "height = [0,2,0,3,1,0,1,3,2,1]"
   ]
  },
  {
   "cell_type": "code",
   "execution_count": 18,
   "id": "8fcf8db8-e422-461e-97e1-cbe21cd17965",
   "metadata": {},
   "outputs": [],
   "source": [
    "class Solution:\n",
    "    def trap(self, height: List[int]) -> int:\n",
    "        index1, index2, area = 0, 1, 0\n",
    "        while index1 <= len(height) - 3:\n",
    "            h = [height[index1]]\n",
    "            while height[index2] <= height[index1] and index2 < len(height) - 1:\n",
    "                h.append(height[index2])\n",
    "                index2 += 1\n",
    "            h.append(height[index2])\n",
    "            index2 += 1\n",
    "            k = len(h) - 1\n",
    "            while k > 1:\n",
    "                if h[k] < h[k-1]:\n",
    "                    del h[k]\n",
    "                    k -= 1\n",
    "                else:\n",
    "                    k = 0\n",
    "            for j in range(len(h))[1:-1]:\n",
    "                if min(h[0], h[-1]) > h[j]:\n",
    "                    area += min(h[0], h[-1])-h[j]\n",
    "            index1 = index2 - 1\n",
    "        return area"
   ]
  },
  {
   "cell_type": "code",
   "execution_count": 19,
   "id": "a2c466e4-417d-449c-8acd-193d3fee1000",
   "metadata": {},
   "outputs": [
    {
     "data": {
      "text/plain": [
       "9"
      ]
     },
     "execution_count": 19,
     "metadata": {},
     "output_type": "execute_result"
    }
   ],
   "source": [
    "Solution().trap(height)"
   ]
  },
  {
   "cell_type": "code",
   "execution_count": 6,
   "id": "d6ea27f5-99c8-4698-b5b8-44f3b2d46066",
   "metadata": {},
   "outputs": [],
   "source": [
    "class leetSolution:\n",
    "    def trap(self, height: List[int]) -> int:\n",
    "        if not height:\n",
    "            return 0\n",
    "\n",
    "        l, r = 0, len(height) - 1\n",
    "        leftMax, rightMax = height[l], height[r]\n",
    "        res = 0\n",
    "        while l < r:\n",
    "            if leftMax < rightMax:\n",
    "                l += 1\n",
    "                leftMax = max(leftMax, height[l])\n",
    "                res += leftMax - height[l]\n",
    "            else:\n",
    "                r -= 1\n",
    "                rightMax = max(rightMax, height[r])\n",
    "                res += rightMax - height[r]\n",
    "        return res\n"
   ]
  },
  {
   "cell_type": "code",
   "execution_count": 7,
   "id": "252306c2-03cc-47ba-b4c1-ec40e21389f4",
   "metadata": {},
   "outputs": [],
   "source": [
    "gary = Solution()"
   ]
  },
  {
   "cell_type": "code",
   "execution_count": 8,
   "id": "fc6a37f7-1b4e-4a28-a392-021827f0fa1c",
   "metadata": {},
   "outputs": [],
   "source": [
    "gary = Solution()"
   ]
  },
  {
   "cell_type": "code",
   "execution_count": 11,
   "id": "82edd575-0959-4dff-bd96-1ce9dedb5f85",
   "metadata": {},
   "outputs": [
    {
     "name": "stdout",
     "output_type": "stream",
     "text": [
      "Elapsed time: 0.413628 seconds\n"
     ]
    }
   ],
   "source": [
    "import timeit\n",
    "\n",
    "elapsed_time = timeit.timeit('gary.trap(height)', globals=globals(), number=100000)\n",
    "print(f\"Elapsed time: {elapsed_time:.6f} seconds\")"
   ]
  },
  {
   "cell_type": "code",
   "execution_count": 12,
   "id": "773adae4-8fad-41f4-bb50-29af9237fa76",
   "metadata": {},
   "outputs": [
    {
     "name": "stdout",
     "output_type": "stream",
     "text": [
      "Elapsed time: 0.173005 seconds\n"
     ]
    }
   ],
   "source": [
    "import timeit\n",
    "\n",
    "elapsed_time = timeit.timeit('leet.trap(height)', globals=globals(), number=100000)\n",
    "print(f\"Elapsed time: {elapsed_time:.6f} seconds\")"
   ]
  },
  {
   "cell_type": "code",
   "execution_count": null,
   "id": "f01381c3-f3a7-42c7-a576-039837f8c96d",
   "metadata": {},
   "outputs": [],
   "source": [
    "gary = Solution()\n",
    "gary = Solution()\n",
    "import timeit\n",
    "\n",
    "elapsed_time = timeit.timeit('gary.trap(height)', globals=globals(), number=100000)\n",
    "print(f\"Elapsed time: {elapsed_time:.6f} seconds\")\n",
    "import timeit\n",
    "\n",
    "elapsed_time = timeit.timeit('leet.trap(height)', globals=globals(), number=100000)\n",
    "print(f\"Elapsed time: {elapsed_time:.6f} seconds\")"
   ]
  }
 ],
 "metadata": {
  "kernelspec": {
   "display_name": "Python 3 (ipykernel)",
   "language": "python",
   "name": "python3"
  },
  "language_info": {
   "codemirror_mode": {
    "name": "ipython",
    "version": 3
   },
   "file_extension": ".py",
   "mimetype": "text/x-python",
   "name": "python",
   "nbconvert_exporter": "python",
   "pygments_lexer": "ipython3",
   "version": "3.10.12"
  }
 },
 "nbformat": 4,
 "nbformat_minor": 5
}
