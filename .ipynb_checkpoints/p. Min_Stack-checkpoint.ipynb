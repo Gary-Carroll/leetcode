{
 "cells": [
  {
   "cell_type": "markdown",
   "id": "51f2f175-4947-4e31-88c8-100eb8ebb727",
   "metadata": {},
   "source": [
    "Design a stack class that supports the push, pop, top, and getMin operations.\n",
    "\n",
    "    MinStack() initializes the stack object.\n",
    "    void push(int val) pushes the element val onto the stack.\n",
    "    void pop() removes the element on the top of the stack.\n",
    "    int top() gets the top element of the stack.\n",
    "    int getMin() retrieves the minimum element in the stack.\n",
    "\n",
    "Each function should run in O(1)O(1) time.<br>\n",
    "Difficulty: Medium"
   ]
  },
  {
   "cell_type": "code",
   "execution_count": 41,
   "id": "27f6a0aa-0ed2-4325-aea0-43cf0940a117",
   "metadata": {},
   "outputs": [],
   "source": [
    "class MinStack:\n",
    "    def __init__(self):\n",
    "        self.stack = []\n",
    "        self.minStack = []\n",
    "\n",
    "    def push(self, val: int) -> None:\n",
    "        self.stack.append(val)\n",
    "\n",
    "    def pop(self) -> None:\n",
    "        self.stack.pop()\n",
    "\n",
    "    def top(self) -> int:\n",
    "        return self.stack[-1]\n",
    "\n",
    "    def getMin(self) -> int:\n",
    "        return min(self.stack)"
   ]
  },
  {
   "cell_type": "code",
   "execution_count": 42,
   "id": "3ffd15f4-db17-4198-8b7d-a9976854c641",
   "metadata": {},
   "outputs": [],
   "source": [
    "m = MinStack()"
   ]
  },
  {
   "cell_type": "code",
   "execution_count": 43,
   "id": "8cd7e9b2-8082-42c0-9424-16376af470c7",
   "metadata": {},
   "outputs": [],
   "source": [
    "m.push(4)\n",
    "m.push(6)"
   ]
  },
  {
   "cell_type": "code",
   "execution_count": 44,
   "id": "f8c6dbb7-40d9-4432-9fb9-899ad5ecde6e",
   "metadata": {},
   "outputs": [
    {
     "data": {
      "text/plain": [
       "[4, 6]"
      ]
     },
     "execution_count": 44,
     "metadata": {},
     "output_type": "execute_result"
    }
   ],
   "source": [
    "m.stack"
   ]
  },
  {
   "cell_type": "code",
   "execution_count": 45,
   "id": "1ba2016e-662e-4b45-bb07-a6d4147f7ad6",
   "metadata": {},
   "outputs": [],
   "source": [
    "m.pop()"
   ]
  },
  {
   "cell_type": "code",
   "execution_count": 46,
   "id": "e7e70cf8-1ee1-4314-96f8-57ce83bd55c5",
   "metadata": {},
   "outputs": [
    {
     "data": {
      "text/plain": [
       "4"
      ]
     },
     "execution_count": 46,
     "metadata": {},
     "output_type": "execute_result"
    }
   ],
   "source": [
    "m.top()"
   ]
  },
  {
   "cell_type": "code",
   "execution_count": 47,
   "id": "eea5aeff-9c95-4287-850b-b7eee877b79a",
   "metadata": {},
   "outputs": [
    {
     "data": {
      "text/plain": [
       "4"
      ]
     },
     "execution_count": 47,
     "metadata": {},
     "output_type": "execute_result"
    }
   ],
   "source": [
    "m.getMin()"
   ]
  }
 ],
 "metadata": {
  "kernelspec": {
   "display_name": "Python 3 (ipykernel)",
   "language": "python",
   "name": "python3"
  },
  "language_info": {
   "codemirror_mode": {
    "name": "ipython",
    "version": 3
   },
   "file_extension": ".py",
   "mimetype": "text/x-python",
   "name": "python",
   "nbconvert_exporter": "python",
   "pygments_lexer": "ipython3",
   "version": "3.10.12"
  }
 },
 "nbformat": 4,
 "nbformat_minor": 5
}
