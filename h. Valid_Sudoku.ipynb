{
 "cells": [
  {
   "cell_type": "markdown",
   "id": "f66467b3-08ef-43eb-ad81-b7b344dbbc4a",
   "metadata": {},
   "source": [
    "You are given a a 9 x 9 Sudoku board board. A Sudoku board is valid if the following rules are followed:\n",
    "\n",
    "    Each row must contain the digits 1-9 without duplicates.\n",
    "    Each column must contain the digits 1-9 without duplicates.\n",
    "    Each of the nine 3 x 3 sub-boxes of the grid must contain the digits 1-9 without duplicates.\n",
    "\n",
    "Return true if the Sudoku board is valid, otherwise return false<br>\n",
    "Note: A board does not need to be full or be solvable to be valid.<br>\n",
    "Difficulty: Medium"
   ]
  },
  {
   "cell_type": "code",
   "execution_count": 130,
   "id": "5fdd595b-224a-4a4e-a506-35f154ce4dfc",
   "metadata": {},
   "outputs": [],
   "source": [
    "from typing import List\n",
    "class Solution:\n",
    "    def isValidSudoku(self, board: List[List[str]]) -> bool:\n",
    "        result = True\n",
    "        a = 0\n",
    "        for i in range(9):\n",
    "            check1 = []\n",
    "            check2 = []\n",
    "            for j in range(9):\n",
    "                if board[i].count(f'{j}') > 1:\n",
    "                    result = False\n",
    "                check1.append(board[i][j])\n",
    "                if board[i][j] != '.' and check1.count(board[i][j]) > 1:\n",
    "                    result = False\n",
    "                check2.append(board[j][i])\n",
    "                if board[j][i] != '.' and check2.count(board[j][i]) > 1:\n",
    "                    result = False\n",
    "\n",
    "        for h in range(3):\n",
    "            check = []\n",
    "            for i in range(3):\n",
    "                for j in range(a,a+3):\n",
    "                    check.append(board[i][j])\n",
    "                    if board[i][j] != '.' and check.count(board[i][j]) > 1:\n",
    "                            result = False\n",
    "            check = []\n",
    "            for i in range(a,a+3):\n",
    "                for j in range(3):\n",
    "                    check.append(board[i][j])\n",
    "                    if board[i][j] != '.' and check.count(board[i][j]) > 1:\n",
    "                            result = False\n",
    "            a+=3\n",
    "        return result"
   ]
  },
  {
   "cell_type": "code",
   "execution_count": 131,
   "id": "81c22c6c-4f59-4eac-8cb1-fece0132a79e",
   "metadata": {},
   "outputs": [],
   "source": [
    "board1 =  [[\"1\",\"2\",\".\",\".\",\"3\",\".\",\".\",\".\",\".\"],\n",
    " [\"4\",\".\",\".\",\"5\",\".\",\".\",\".\",\".\",\".\"],\n",
    " [\".\",\"9\",\"8\",\".\",\".\",\".\",\".\",\".\",\"3\"],\n",
    " [\"5\",\".\",\".\",\".\",\"6\",\".\",\".\",\".\",\"4\"],\n",
    " [\".\",\".\",\".\",\"8\",\".\",\"3\",\".\",\".\",\"5\"],\n",
    " [\"7\",\".\",\".\",\".\",\"2\",\".\",\".\",\".\",\"6\"],\n",
    " [\".\",\".\",\".\",\".\",\".\",\".\",\"2\",\".\",\".\"],\n",
    " [\".\",\".\",\".\",\"4\",\"1\",\"9\",\".\",\".\",\"8\"],\n",
    " [\".\",\".\",\".\",\".\",\"8\",\".\",\".\",\"7\",\"9\"]]\n",
    "\n",
    "board2 = [[\"1\",\"2\",\".\",\".\",\"3\",\".\",\".\",\".\",\".\"],\n",
    " [\"4\",\".\",\".\",\"5\",\".\",\".\",\".\",\".\",\".\"],\n",
    " [\".\",\"9\",\"1\",\".\",\".\",\".\",\".\",\".\",\"3\"],\n",
    " [\"5\",\".\",\".\",\".\",\"6\",\".\",\".\",\".\",\"4\"],\n",
    " [\".\",\".\",\".\",\"8\",\".\",\"3\",\".\",\".\",\"5\"],\n",
    " [\"7\",\".\",\".\",\".\",\"2\",\".\",\".\",\".\",\"6\"],\n",
    " [\".\",\".\",\".\",\".\",\".\",\".\",\"2\",\".\",\".\"],\n",
    " [\".\",\".\",\".\",\"4\",\"1\",\"9\",\".\",\".\",\"8\"],\n",
    " [\".\",\".\",\".\",\".\",\"8\",\".\",\".\",\"7\",\"9\"]]"
   ]
  },
  {
   "cell_type": "code",
   "execution_count": 132,
   "id": "0f941a85-6030-4e39-8df3-47de85e24d6d",
   "metadata": {},
   "outputs": [
    {
     "data": {
      "text/plain": [
       "True"
      ]
     },
     "execution_count": 132,
     "metadata": {},
     "output_type": "execute_result"
    }
   ],
   "source": [
    "Solution().isValidSudoku(board1)"
   ]
  },
  {
   "cell_type": "code",
   "execution_count": 133,
   "id": "68590ed1-c2ed-47b1-a9c1-1533a2927e87",
   "metadata": {},
   "outputs": [
    {
     "data": {
      "text/plain": [
       "False"
      ]
     },
     "execution_count": 133,
     "metadata": {},
     "output_type": "execute_result"
    }
   ],
   "source": [
    "Solution().isValidSudoku(board2)"
   ]
  }
 ],
 "metadata": {
  "kernelspec": {
   "display_name": "Python 3 (ipykernel)",
   "language": "python",
   "name": "python3"
  },
  "language_info": {
   "codemirror_mode": {
    "name": "ipython",
    "version": 3
   },
   "file_extension": ".py",
   "mimetype": "text/x-python",
   "name": "python",
   "nbconvert_exporter": "python",
   "pygments_lexer": "ipython3",
   "version": "3.10.12"
  }
 },
 "nbformat": 4,
 "nbformat_minor": 5
}
