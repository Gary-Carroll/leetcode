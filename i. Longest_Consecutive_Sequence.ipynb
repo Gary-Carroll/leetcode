{
 "cells": [
  {
   "cell_type": "markdown",
   "id": "45fe141b-e1fa-406d-9ab9-030dbee87bfe",
   "metadata": {},
   "source": [
    "Given an array of integers nums, return the length of the longest consecutive sequence of elements.<br>\n",
    "A consecutive sequence is a sequence of elements in which each element is exactly 1 greater than the previous element.<br>\n",
    "You must write an algorithm that runs in O(n) time.<br>\n",
    "Difficulty: Medium"
   ]
  },
  {
   "cell_type": "code",
   "execution_count": 93,
   "id": "04c2b056-b8ac-42c8-9944-277a8da7da3d",
   "metadata": {},
   "outputs": [],
   "source": [
    "from typing import List\n",
    "class Solution:\n",
    "    def longestConsecutive(self, nums: List[int]) -> int:\n",
    "        if len(nums) == 0:\n",
    "            return 0\n",
    "        else:\n",
    "            nums = list(sorted(set(nums)))\n",
    "            maxes = [1]\n",
    "            m = 1\n",
    "            n = nums[0]\n",
    "            for i in nums[1:]:\n",
    "                if abs(i - n) == 1:\n",
    "                    m += 1\n",
    "                    n = i\n",
    "                else:\n",
    "                    m = 1\n",
    "                    n = i\n",
    "                maxes.append(m)\n",
    "            return(max(maxes))"
   ]
  },
  {
   "cell_type": "code",
   "execution_count": 94,
   "id": "cf01d30a-5985-4c82-afe5-1eeb760f62f7",
   "metadata": {},
   "outputs": [
    {
     "data": {
      "text/plain": [
       "3"
      ]
     },
     "execution_count": 94,
     "metadata": {},
     "output_type": "execute_result"
    }
   ],
   "source": [
    "Solution().longestConsecutive([8,5,3,2,0,0,-1,-2,6])"
   ]
  },
  {
   "cell_type": "code",
   "execution_count": 95,
   "id": "1a5a72fc-310d-4379-a04c-4b1887ecc442",
   "metadata": {},
   "outputs": [
    {
     "data": {
      "text/plain": [
       "9"
      ]
     },
     "execution_count": 95,
     "metadata": {},
     "output_type": "execute_result"
    }
   ],
   "source": [
    "Solution().longestConsecutive([1,2,3,9,8,7,6,5,4])"
   ]
  }
 ],
 "metadata": {
  "kernelspec": {
   "display_name": "Python 3 (ipykernel)",
   "language": "python",
   "name": "python3"
  },
  "language_info": {
   "codemirror_mode": {
    "name": "ipython",
    "version": 3
   },
   "file_extension": ".py",
   "mimetype": "text/x-python",
   "name": "python",
   "nbconvert_exporter": "python",
   "pygments_lexer": "ipython3",
   "version": "3.10.12"
  }
 },
 "nbformat": 4,
 "nbformat_minor": 5
}
