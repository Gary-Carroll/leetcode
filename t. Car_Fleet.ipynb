{
 "cells": [
  {
   "cell_type": "markdown",
   "id": "27def54b-92b0-4360-8477-45a75d95d539",
   "metadata": {},
   "source": [
    "There are n cars traveling to the same destination on a one-lane highway.<br>\n",
    "You are given two arrays of integers position and speed, both of length n.\n",
    "\n",
    "    position[i] is the position of the ith car (in miles)\n",
    "    speed[i] is the speed of the ith car (in miles per hour)\n",
    "\n",
    "The destination is at position target miles.<br>\n",
    "A car can not pass another car ahead of it. It can only catch up to another car and then drive at the same speed as the car ahead of it.<br>\n",
    "A car fleet is a non-empty set of cars driving at the same position and same speed. A single car is also considered a car fleet.<br>\n",
    "If a car catches up to a car fleet the moment the fleet reaches the destination, then the car is considered to be part of the fleet.<br>\n",
    "Return the number of different car fleets that will arrive at the destination.<br>\n",
    "Difficulty: Medium\n",
    "\n",
    "Input: target = 10, position = [4,1,0,7], speed = [2,2,1,1]<br>\n",
    "Output: 3"
   ]
  },
  {
   "cell_type": "code",
   "execution_count": 24,
   "id": "2be5be64-7774-4252-a94c-7d8830bcb043",
   "metadata": {},
   "outputs": [],
   "source": [
    "target = 10\n",
    "position = [4,1,0,7]\n",
    "speed = [2,2,1,1]"
   ]
  },
  {
   "cell_type": "code",
   "execution_count": 21,
   "id": "d05e51dd-99f2-4ae9-9b5c-414906f67dfe",
   "metadata": {},
   "outputs": [],
   "source": [
    "target = 10\n",
    "position = [1,4]\n",
    "speed = [3,2]"
   ]
  },
  {
   "cell_type": "code",
   "execution_count": 43,
   "id": "222ffefb-9017-4865-8d2d-15f998f17de0",
   "metadata": {},
   "outputs": [],
   "source": [
    "positions = []\n",
    "for i,j in zip(position, speed):\n",
    "    p = []\n",
    "    k = i\n",
    "    while k < target:\n",
    "        k+=j\n",
    "        p.append(k)\n",
    "    p = [m for m in p if m <= 10]\n",
    "    positions.append(p)"
   ]
  },
  {
   "cell_type": "code",
   "execution_count": 37,
   "id": "c6fb48db-1182-4240-b0b8-f113bd3078aa",
   "metadata": {},
   "outputs": [
    {
     "data": {
      "text/plain": [
       "[[6, 8, 10], [3, 5, 7, 9], [1, 2, 3, 4, 5, 6, 7, 8, 9, 10], [8, 9, 10]]"
      ]
     },
     "execution_count": 37,
     "metadata": {},
     "output_type": "execute_result"
    }
   ],
   "source": [
    "positions"
   ]
  },
  {
   "cell_type": "code",
   "execution_count": 47,
   "id": "315f038f-cc55-4f9e-9735-7233fa32f5f5",
   "metadata": {},
   "outputs": [
    {
     "data": {
      "text/plain": [
       "[3, 4, 10, 3]"
      ]
     },
     "execution_count": 47,
     "metadata": {},
     "output_type": "execute_result"
    }
   ],
   "source": [
    "seconds = [len(x) for x in positions]\n",
    "i = 0\n",
    "while len(positions) > 1:\n",
    "    "
   ]
  },
  {
   "cell_type": "code",
   "execution_count": null,
   "id": "31ea6ccd-03eb-4b77-810d-062281cb72da",
   "metadata": {},
   "outputs": [],
   "source": []
  },
  {
   "cell_type": "code",
   "execution_count": 48,
   "id": "eec156ba-2e37-4d5e-bfc6-366fe7ec37fe",
   "metadata": {},
   "outputs": [],
   "source": [
    "positions = []\n",
    "for i,j in zip(position, speed):\n",
    "    p = []\n",
    "    k = i\n",
    "    while k < target:\n",
    "        k+=j\n",
    "        positions.append(k)"
   ]
  },
  {
   "cell_type": "code",
   "execution_count": 50,
   "id": "1570097b-4f9b-4083-929d-deff50e78d20",
   "metadata": {},
   "outputs": [
    {
     "data": {
      "text/plain": [
       "[1, 2, 3, 3, 4, 5, 5, 6, 6, 7, 7, 8, 8, 8, 9, 9, 9, 10, 10, 10, 11]"
      ]
     },
     "execution_count": 50,
     "metadata": {},
     "output_type": "execute_result"
    }
   ],
   "source": [
    "sorted(positions)"
   ]
  },
  {
   "cell_type": "code",
   "execution_count": null,
   "id": "4e8ed50e-a6aa-4667-98b6-dcbafa0fd75b",
   "metadata": {},
   "outputs": [],
   "source": [
    "i = 1\n",
    "while i < target:\n",
    "    for i "
   ]
  }
 ],
 "metadata": {
  "kernelspec": {
   "display_name": "Python 3 (ipykernel)",
   "language": "python",
   "name": "python3"
  },
  "language_info": {
   "codemirror_mode": {
    "name": "ipython",
    "version": 3
   },
   "file_extension": ".py",
   "mimetype": "text/x-python",
   "name": "python",
   "nbconvert_exporter": "python",
   "pygments_lexer": "ipython3",
   "version": "3.10.12"
  }
 },
 "nbformat": 4,
 "nbformat_minor": 5
}
