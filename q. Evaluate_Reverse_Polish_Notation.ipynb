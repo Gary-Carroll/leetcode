{
 "cells": [
  {
   "cell_type": "markdown",
   "id": "5e79afdb-ab90-4cf5-b5ec-f4e143a768ab",
   "metadata": {},
   "source": [
    "You are given an array of strings tokens that represents a valid arithmetic expression in Reverse Polish Notation.<br>\n",
    "Return the integer that represents the evaluation of the expression.\n",
    "\n",
    "    The operands may be integers or the results of other operations.\n",
    "    The operators include '+', '-', '*', and '/'.\n",
    "    Assume that division between integers always truncates toward zero.\n",
    "\n",
    "Difficulty: Medium"
   ]
  },
  {
   "cell_type": "markdown",
   "id": "8f5dfa09-b3a8-44b7-803f-32b7feab4869",
   "metadata": {},
   "source": [
    "((1 + 2) * 3) - 4 = 5   so output is 5"
   ]
  },
  {
   "cell_type": "code",
   "execution_count": 104,
   "id": "6657b527-a2d9-4c73-9b4d-20526b8b7dbd",
   "metadata": {},
   "outputs": [],
   "source": [
    "from typing import List\n",
    "class Solution:\n",
    "    def evalRPN(self, tokens: List[str]) -> int:\n",
    "        while len(tokens) > 1:\n",
    "            i = 0\n",
    "            while str(tokens[i]) not in \"+-*/\":\n",
    "                i += 1\n",
    "            tokens[i] = str(int(eval(tokens[i-2] + tokens[i] + tokens[i-1])))\n",
    "            del tokens[i-2:i]\n",
    "        return int(eval(tokens[0])//1)"
   ]
  },
  {
   "cell_type": "code",
   "execution_count": 105,
   "id": "e5b620f8-16c8-42b8-8d0e-a9f056a0081b",
   "metadata": {},
   "outputs": [],
   "source": [
    "tokens1 = [\"1\",\"2\",\"+\",\"3\",\"*\",\"4\",\"-\"]\n",
    "tokens2 =[\"10\",\"6\",\"9\",\"3\",\"+\",\"-11\",\"*\",\"/\",\"*\",\"17\",\"+\",\"5\",\"+\"]"
   ]
  },
  {
   "cell_type": "code",
   "execution_count": 106,
   "id": "081a9121-4ee3-483d-b35d-1d80f030c0b6",
   "metadata": {},
   "outputs": [
    {
     "data": {
      "text/plain": [
       "5"
      ]
     },
     "execution_count": 106,
     "metadata": {},
     "output_type": "execute_result"
    }
   ],
   "source": [
    "Solution().evalRPN(tokens1)"
   ]
  },
  {
   "cell_type": "code",
   "execution_count": 107,
   "id": "0cf00c6e-df1f-42aa-ae0d-ed977827c1b4",
   "metadata": {},
   "outputs": [
    {
     "data": {
      "text/plain": [
       "22"
      ]
     },
     "execution_count": 107,
     "metadata": {},
     "output_type": "execute_result"
    }
   ],
   "source": [
    "Solution().evalRPN(tokens2)"
   ]
  },
  {
   "cell_type": "code",
   "execution_count": 108,
   "id": "b854efa9-45df-49de-b2fa-8227b9f78fbd",
   "metadata": {},
   "outputs": [],
   "source": [
    "# Neetcode solution\n",
    "class Solution_neet:\n",
    "    def evalRPN(self, tokens: List[str]) -> int:\n",
    "        stack = []\n",
    "        for c in tokens:\n",
    "            if c == \"+\":\n",
    "                stack.append(stack.pop() + stack.pop())\n",
    "            elif c == \"-\":\n",
    "                a, b = stack.pop(), stack.pop()\n",
    "                stack.append(b - a)\n",
    "            elif c == \"*\":\n",
    "                stack.append(stack.pop() * stack.pop())\n",
    "            elif c == \"/\":\n",
    "                a, b = stack.pop(), stack.pop()\n",
    "                stack.append(int(float(b) / a))\n",
    "            else:\n",
    "                stack.append(int(c))\n",
    "        return stack[0]"
   ]
  },
  {
   "cell_type": "code",
   "execution_count": 112,
   "id": "bda7f17d-88f8-417a-942c-51f2b5d62ceb",
   "metadata": {},
   "outputs": [
    {
     "name": "stdout",
     "output_type": "stream",
     "text": [
      "Elapsed time Gary solution: 0.318023 seconds\n",
      "Elapsed time Neet solution: 0.030630 seconds\n"
     ]
    }
   ],
   "source": [
    "gary = Solution()\n",
    "leet = Solution_neet()\n",
    "import timeit\n",
    "\n",
    "elapsed_time = timeit.timeit('gary.evalRPN(tokens2)', globals=globals(), number=100000)\n",
    "print(f\"Elapsed time Gary solution: {elapsed_time:.6f} seconds\")\n",
    "import timeit\n",
    "\n",
    "elapsed_time = timeit.timeit('leet.evalRPN(tokens2)', globals=globals(), number=100000)\n",
    "print(f\"Elapsed time Neet solution: {elapsed_time:.6f} seconds\")"
   ]
  },
  {
   "cell_type": "code",
   "execution_count": null,
   "id": "0d44dd9d-ad79-441f-8124-e85f2afee8fd",
   "metadata": {},
   "outputs": [],
   "source": []
  }
 ],
 "metadata": {
  "kernelspec": {
   "display_name": "Python 3 (ipykernel)",
   "language": "python",
   "name": "python3"
  },
  "language_info": {
   "codemirror_mode": {
    "name": "ipython",
    "version": 3
   },
   "file_extension": ".py",
   "mimetype": "text/x-python",
   "name": "python",
   "nbconvert_exporter": "python",
   "pygments_lexer": "ipython3",
   "version": "3.10.12"
  }
 },
 "nbformat": 4,
 "nbformat_minor": 5
}
