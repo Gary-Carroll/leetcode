{
 "cells": [
  {
   "cell_type": "markdown",
   "id": "01b05b25-de1c-4889-b4f6-7c6cf642cb83",
   "metadata": {},
   "source": [
    "You are given an array of integers temperatures where temperatures[i] represents the daily temperatures on the ith day.<br>\n",
    "Return an array result where result[i] is the number of days after the ith day before a warmer temperature appears on a future day. If there is no day in the future where a warmer temperature will appear for the ith day, set result[i] to 0 instead.<br>\n",
    "Difficulty: Medium"
   ]
  },
  {
   "cell_type": "markdown",
   "id": "caf9a3ad-3efe-4ae8-a3dd-5963173f785e",
   "metadata": {},
   "source": [
    "Input: temperatures = [30,38,30,36,35,40,28]<br>\n",
    "Output: [1,4,1,2,1,0,0]"
   ]
  },
  {
   "cell_type": "code",
   "execution_count": 105,
   "id": "6a6b100e-34a4-49c8-b53f-fb8b321eeec4",
   "metadata": {},
   "outputs": [],
   "source": [
    "from typing import List\n",
    "class Solution1:\n",
    "    def dailyTemperatures(self, temperatures: List[int]) -> List[int]:\n",
    "        days = [0]\n",
    "        max_temp = [temperatures[-1]]\n",
    "        count = 0\n",
    "        i = len(temperatures) - 2\n",
    "        while i >= 0:\n",
    "            if temperatures[i] < temperatures[i+1]:\n",
    "                days.insert(0,1)\n",
    "                count += 1\n",
    "            elif temperatures[i] >= max(max_temp):\n",
    "                max_temp.append(temperatures[i])\n",
    "                days.insert(0,0)\n",
    "            elif temperatures[i] >= temperatures[i+1] and temperatures[i] < max(max_temp):\n",
    "                check = next(x[0] for x in enumerate(temperatures[i:]) if x[1] > temperatures[i])\n",
    "                count += 1\n",
    "                days.insert(0, min(count,check))\n",
    "            i -= 1\n",
    "        return days"
   ]
  },
  {
   "cell_type": "code",
   "execution_count": 106,
   "id": "1e542723-4fac-4d5c-b15f-ecc9b1e04ece",
   "metadata": {},
   "outputs": [],
   "source": [
    "class Solution2:\n",
    "    def dailyTemperatures(self, temperatures: List[int]) -> List[int]:\n",
    "        days = []\n",
    "        for i in range(len(temperatures)):\n",
    "            if temperatures[i] >= max(temperatures[i:]):\n",
    "                days.append(0)\n",
    "            else:\n",
    "                days.append(next(x[0] for x in enumerate(temperatures[i:]) if x[1] > temperatures[i]))\n",
    "        return days"
   ]
  },
  {
   "cell_type": "code",
   "execution_count": 107,
   "id": "45d482dd-061a-4941-8f70-86460228defb",
   "metadata": {},
   "outputs": [],
   "source": [
    "class Solution_neet:\n",
    "    def dailyTemperatures(self, temperatures: List[int]) -> List[int]:\n",
    "        res = [0] * len(temperatures)\n",
    "        stack = []  # pair: [temp, index]\n",
    "        for i, t in enumerate(temperatures):\n",
    "            while stack and t > stack[-1][0]:\n",
    "                stackT, stackInd = stack.pop()\n",
    "                res[stackInd] = i - stackInd\n",
    "            stack.append((t, i))\n",
    "        return res"
   ]
  },
  {
   "cell_type": "code",
   "execution_count": null,
   "id": "849f8c6c-cff7-45a5-a3a1-c654863442f9",
   "metadata": {},
   "outputs": [],
   "source": [
    "#temperatures = [30,38,30,36,35,40,28]\n",
    "#Output: [1,4,1,2,1,0,0]\n",
    "\n",
    "# temperatures=[73,74,75,71,69,72,76,73]\n",
    "# expected = [1,1,4,2,1,1,0,0]\n",
    "\n",
    "# temperatures=[89,62,70,58,47,47,46,76,100,70]\n",
    "# expected = [8,1,5,4,3,2,1,1,0,0]\n",
    "\n",
    "temperatures=[34,80,80,34,34,80,80,80,80,34]\n",
    "expected = [1,0,0,2,1,0,0,0,0,0]"
   ]
  },
  {
   "cell_type": "code",
   "execution_count": 109,
   "id": "10e8caf2-8b8f-4267-bb55-4e4f170fbbf6",
   "metadata": {},
   "outputs": [
    {
     "name": "stdout",
     "output_type": "stream",
     "text": [
      "Elapsed time Gary1 solution: 0.380679 seconds\n",
      "Elapsed time Gary2 solution: 0.422550 seconds\n",
      "Elapsed time Neet solution: 0.159952 seconds\n"
     ]
    }
   ],
   "source": [
    "gary1 = Solution1()\n",
    "gary2 = Solution2()\n",
    "leet = Solution_neet()\n",
    "import timeit\n",
    "\n",
    "elapsed_time = timeit.timeit('gary1.dailyTemperatures(temperatures)', globals=globals(), number=100000)\n",
    "print(f\"Elapsed time Gary1 solution: {elapsed_time:.6f} seconds\")\n",
    "import timeit\n",
    "\n",
    "elapsed_time = timeit.timeit('gary2.dailyTemperatures(temperatures)', globals=globals(), number=100000)\n",
    "print(f\"Elapsed time Gary2 solution: {elapsed_time:.6f} seconds\")\n",
    "import timeit\n",
    "\n",
    "elapsed_time = timeit.timeit('leet.dailyTemperatures(temperatures)', globals=globals(), number=100000)\n",
    "print(f\"Elapsed time Neet solution: {elapsed_time:.6f} seconds\")"
   ]
  },
  {
   "cell_type": "code",
   "execution_count": null,
   "id": "e278db0c-d424-4112-b562-74aac0cd61b2",
   "metadata": {},
   "outputs": [],
   "source": []
  }
 ],
 "metadata": {
  "kernelspec": {
   "display_name": "Python 3 (ipykernel)",
   "language": "python",
   "name": "python3"
  },
  "language_info": {
   "codemirror_mode": {
    "name": "ipython",
    "version": 3
   },
   "file_extension": ".py",
   "mimetype": "text/x-python",
   "name": "python",
   "nbconvert_exporter": "python",
   "pygments_lexer": "ipython3",
   "version": "3.10.12"
  }
 },
 "nbformat": 4,
 "nbformat_minor": 5
}
