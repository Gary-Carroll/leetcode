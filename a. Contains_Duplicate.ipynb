{
 "cells": [
  {
   "cell_type": "markdown",
   "id": "1c19d58c-2c5e-44de-85fb-44bb55e64410",
   "metadata": {},
   "source": [
    "Given an integer array nums, return true if any value appears more than once in the array, otherwise return false.<br>\n",
    "Difficulty: Easy"
   ]
  },
  {
   "cell_type": "code",
   "execution_count": 2,
   "id": "d2a4e6fb-fc47-472a-96b4-9b47297eb879",
   "metadata": {},
   "outputs": [],
   "source": [
    "from typing import List\n",
    "class Solution:\n",
    "    def hasDuplicate(self, nums: List[int]) -> bool:\n",
    "        return(len(set(nums)) != len(nums))"
   ]
  },
  {
   "cell_type": "code",
   "execution_count": 3,
   "id": "cdc285eb-8939-4fa6-953b-f629c4a08fda",
   "metadata": {},
   "outputs": [
    {
     "data": {
      "text/plain": [
       "False"
      ]
     },
     "execution_count": 3,
     "metadata": {},
     "output_type": "execute_result"
    }
   ],
   "source": [
    "Solution().hasDuplicate([1,3,5,7,9])"
   ]
  },
  {
   "cell_type": "code",
   "execution_count": 7,
   "id": "cd22717d-975b-4440-9f26-46a381867f31",
   "metadata": {},
   "outputs": [
    {
     "data": {
      "text/plain": [
       "True"
      ]
     },
     "execution_count": 7,
     "metadata": {},
     "output_type": "execute_result"
    }
   ],
   "source": [
    "Solution().hasDuplicate([1,3,5,7,3,9])"
   ]
  },
  {
   "cell_type": "code",
   "execution_count": null,
   "id": "1f24d352-6dd2-4fa0-9e39-fdab891d974c",
   "metadata": {},
   "outputs": [],
   "source": []
  }
 ],
 "metadata": {
  "kernelspec": {
   "display_name": "Python 3 (ipykernel)",
   "language": "python",
   "name": "python3"
  },
  "language_info": {
   "codemirror_mode": {
    "name": "ipython",
    "version": 3
   },
   "file_extension": ".py",
   "mimetype": "text/x-python",
   "name": "python",
   "nbconvert_exporter": "python",
   "pygments_lexer": "ipython3",
   "version": "3.10.12"
  }
 },
 "nbformat": 4,
 "nbformat_minor": 5
}
