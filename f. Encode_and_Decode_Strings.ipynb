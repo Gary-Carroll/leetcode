{
 "cells": [
  {
   "cell_type": "markdown",
   "id": "3de1d8ed-bf4c-4780-b092-9c36279bb3c1",
   "metadata": {},
   "source": [
    "Design an algorithm to encode a list of strings to a single string.<br>\n",
    "The encoded string is then decoded back to the original list of strings.<br>\n",
    "Difficulty: Medium"
   ]
  },
  {
   "cell_type": "code",
   "execution_count": 22,
   "id": "d016f193-9499-4245-b94b-a438d53b0033",
   "metadata": {},
   "outputs": [],
   "source": [
    "from typing import List\n",
    "class Solution:\n",
    "    def encode(self, strs: List[str]) -> str:\n",
    "        s = \"\"\n",
    "        for i in strs:\n",
    "            s = s + \"#\" + i\n",
    "        return(s)\n",
    "\n",
    "    def decode(self, s: str) -> List[str]:\n",
    "        t = s.split(\"#\")\n",
    "        return(t[1:])"
   ]
  },
  {
   "cell_type": "code",
   "execution_count": 23,
   "id": "0e2e188c-0963-4d16-9b71-52e436a721ca",
   "metadata": {},
   "outputs": [
    {
     "data": {
      "text/plain": [
       "'#hello#world'"
      ]
     },
     "execution_count": 23,
     "metadata": {},
     "output_type": "execute_result"
    }
   ],
   "source": [
    "Solution().encode([\"hello\", \"world\"])"
   ]
  },
  {
   "cell_type": "code",
   "execution_count": 24,
   "id": "d32db8a0-b5d6-487f-8979-1181b1d693a3",
   "metadata": {},
   "outputs": [
    {
     "data": {
      "text/plain": [
       "['hello', 'world']"
      ]
     },
     "execution_count": 24,
     "metadata": {},
     "output_type": "execute_result"
    }
   ],
   "source": [
    "Solution().decode('#hello#world')"
   ]
  }
 ],
 "metadata": {
  "kernelspec": {
   "display_name": "Python 3 (ipykernel)",
   "language": "python",
   "name": "python3"
  },
  "language_info": {
   "codemirror_mode": {
    "name": "ipython",
    "version": 3
   },
   "file_extension": ".py",
   "mimetype": "text/x-python",
   "name": "python",
   "nbconvert_exporter": "python",
   "pygments_lexer": "ipython3",
   "version": "3.10.12"
  }
 },
 "nbformat": 4,
 "nbformat_minor": 5
}
