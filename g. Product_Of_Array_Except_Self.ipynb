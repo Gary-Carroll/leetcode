{
 "cells": [
  {
   "cell_type": "markdown",
   "id": "ec270804-2c96-47be-a2bc-6b80a8044431",
   "metadata": {},
   "source": [
    "Given an integer array nums, return an array output where output[i] is the product of all the elements of nums except nums[i].<br>\n",
    "Each product is guaranteed to fit in a 32-bit integer.<br>\n",
    "Follow-up: Could you solve it in O(n) time without using the division operation?<br>\n",
    "Difficulty: Medium"
   ]
  },
  {
   "cell_type": "code",
   "execution_count": 19,
   "id": "a1dda5a3-c997-4b31-87fd-1af9903d61d1",
   "metadata": {},
   "outputs": [],
   "source": [
    "from typing import List\n",
    "class Solution:\n",
    "    def productExceptSelf(self, nums: List[int]) -> List[int]:\n",
    "        output = []\n",
    "        for i in range(len(nums)):\n",
    "            product = 1\n",
    "            for j in range(len(nums)):\n",
    "                if i != j:\n",
    "                    product = product*nums[j]\n",
    "            output.append(product)\n",
    "        return(output)"
   ]
  },
  {
   "cell_type": "code",
   "execution_count": 20,
   "id": "c6b778e9-e79a-4c18-9ab6-28056e2ec0d8",
   "metadata": {},
   "outputs": [
    {
     "data": {
      "text/plain": [
       "[0, -6, 0, 0, 0]"
      ]
     },
     "execution_count": 20,
     "metadata": {},
     "output_type": "execute_result"
    }
   ],
   "source": [
    "Solution().productExceptSelf([-1,0,1,2,3])"
   ]
  }
 ],
 "metadata": {
  "kernelspec": {
   "display_name": "Python 3 (ipykernel)",
   "language": "python",
   "name": "python3"
  },
  "language_info": {
   "codemirror_mode": {
    "name": "ipython",
    "version": 3
   },
   "file_extension": ".py",
   "mimetype": "text/x-python",
   "name": "python",
   "nbconvert_exporter": "python",
   "pygments_lexer": "ipython3",
   "version": "3.10.12"
  }
 },
 "nbformat": 4,
 "nbformat_minor": 5
}
