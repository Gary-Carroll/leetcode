{
 "cells": [
  {
   "cell_type": "markdown",
   "id": "387e7f92-8aef-43ff-96a9-523cc9a033ee",
   "metadata": {},
   "source": [
    "Given an array of integers nums and an integer target, return the indices i and j such that nums[i] + nums[j] == target and i != j.<br>\n",
    "You may assume that every input has exactly one pair of indices i and j that satisfy the condition.<br>\n",
    "Return the answer with the smaller index first.<br>\n",
    "Difficulty: Easy"
   ]
  },
  {
   "cell_type": "code",
   "execution_count": 14,
   "id": "0bbb51a7-aa48-4f16-9de5-771d20d7ea66",
   "metadata": {},
   "outputs": [],
   "source": [
    "from typing import List\n",
    "class Solution:\n",
    "    def twoSum(self, nums: List[int], target: int) -> List[int]:\n",
    "        for i in range(len(nums)):\n",
    "            for j in range(len(nums)):\n",
    "                if nums[i] + nums[j] == target and i !=j:\n",
    "                    return([i,j])"
   ]
  },
  {
   "cell_type": "code",
   "execution_count": 17,
   "id": "93fa6b41-2576-42ff-90bf-ccd2a4127938",
   "metadata": {},
   "outputs": [
    {
     "data": {
      "text/plain": [
       "[1, 2]"
      ]
     },
     "execution_count": 17,
     "metadata": {},
     "output_type": "execute_result"
    }
   ],
   "source": [
    "Solution().twoSum([3,5,5,4,6],10)"
   ]
  }
 ],
 "metadata": {
  "kernelspec": {
   "display_name": "Python 3 (ipykernel)",
   "language": "python",
   "name": "python3"
  },
  "language_info": {
   "codemirror_mode": {
    "name": "ipython",
    "version": 3
   },
   "file_extension": ".py",
   "mimetype": "text/x-python",
   "name": "python",
   "nbconvert_exporter": "python",
   "pygments_lexer": "ipython3",
   "version": "3.10.12"
  }
 },
 "nbformat": 4,
 "nbformat_minor": 5
}
